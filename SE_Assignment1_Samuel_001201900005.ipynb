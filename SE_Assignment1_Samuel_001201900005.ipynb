{
  "nbformat": 4,
  "nbformat_minor": 0,
  "metadata": {
    "colab": {
      "name": "SE-Assignment1-Samuel-001201900005.ipynb",
      "provenance": [],
      "authorship_tag": "ABX9TyPNl32R8ZzgppKhkLQTo1L9",
      "include_colab_link": true
    },
    "kernelspec": {
      "name": "python3",
      "display_name": "Python 3"
    },
    "language_info": {
      "name": "python"
    }
  },
  "cells": [
    {
      "cell_type": "markdown",
      "metadata": {
        "id": "view-in-github",
        "colab_type": "text"
      },
      "source": [
        "<a href=\"https://colab.research.google.com/github/samleonnn/Software_Engineering_Samuel/blob/main/SE_Assignment1_Samuel_001201900005.ipynb\" target=\"_parent\"><img src=\"https://colab.research.google.com/assets/colab-badge.svg\" alt=\"Open In Colab\"/></a>"
      ]
    },
    {
      "cell_type": "code",
      "metadata": {
        "colab": {
          "base_uri": "https://localhost:8080/"
        },
        "id": "t_q6CK3OrgXo",
        "outputId": "1ade0dda-a9d5-49ce-d427-5d5e06b8243a"
      },
      "source": [
        "panjang = int(input(\"Input Panjang: \"))\n",
        "lebar = int(input(\"Input Lebar: \"))\n",
        "\n",
        "luas = panjang * lebar\n",
        "print(\"Luas =\", luas)"
      ],
      "execution_count": 2,
      "outputs": [
        {
          "output_type": "stream",
          "name": "stdout",
          "text": [
            "Input Panjang: 10\n",
            "Input Lebar: 3\n",
            "Luas = 30\n"
          ]
        }
      ]
    }
  ]
}