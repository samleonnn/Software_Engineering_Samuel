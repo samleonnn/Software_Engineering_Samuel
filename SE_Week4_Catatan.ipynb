{
  "nbformat": 4,
  "nbformat_minor": 0,
  "metadata": {
    "colab": {
      "name": "SE_Week4_Catatan.ipynb",
      "provenance": [],
      "collapsed_sections": [],
      "authorship_tag": "ABX9TyMfY0i+nz7ZQ73YPgafcLTo",
      "include_colab_link": true
    },
    "kernelspec": {
      "name": "python3",
      "display_name": "Python 3"
    },
    "language_info": {
      "name": "python"
    }
  },
  "cells": [
    {
      "cell_type": "markdown",
      "metadata": {
        "id": "view-in-github",
        "colab_type": "text"
      },
      "source": [
        "<a href=\"https://colab.research.google.com/github/samleonnn/Software_Engineering_Samuel/blob/main/SE_Week4_Catatan.ipynb\" target=\"_parent\"><img src=\"https://colab.research.google.com/assets/colab-badge.svg\" alt=\"Open In Colab\"/></a>"
      ]
    },
    {
      "cell_type": "code",
      "metadata": {
        "id": "3sUdSIgAoU34"
      },
      "source": [
        "#List Comprehension --> Waktu eksekusi lebih cepat dari cara tradisional\n",
        "#Class"
      ],
      "execution_count": 1,
      "outputs": []
    },
    {
      "cell_type": "code",
      "metadata": {
        "colab": {
          "base_uri": "https://localhost:8080/"
        },
        "id": "y5K6i8FyogbB",
        "outputId": "67e64e40-b37f-4baf-fab9-ad3bb947677b"
      },
      "source": [
        "list_ganjil = []\n",
        "#Tanpa List Comprehension\n",
        "for i in range(0, 30):\n",
        "  if i%2 == 1:\n",
        "    list_ganjil.append(i)\n",
        "\n",
        "print(list_ganjil)"
      ],
      "execution_count": 2,
      "outputs": [
        {
          "output_type": "stream",
          "name": "stdout",
          "text": [
            "[1, 3, 5, 7, 9, 11, 13, 15, 17, 19, 21, 23, 25, 27, 29]\n"
          ]
        }
      ]
    },
    {
      "cell_type": "code",
      "metadata": {
        "colab": {
          "base_uri": "https://localhost:8080/"
        },
        "id": "Q6aHi7qKozZX",
        "outputId": "219643c4-a1c0-40f8-a87d-88dc49bc2787"
      },
      "source": [
        "#Dengan List Comprehension\n",
        "list_ganjil_com = [i for i in range(0, 30) if i%2 == 1]\n",
        "print(list_ganjil_com)"
      ],
      "execution_count": 3,
      "outputs": [
        {
          "output_type": "stream",
          "name": "stdout",
          "text": [
            "[1, 3, 5, 7, 9, 11, 13, 15, 17, 19, 21, 23, 25, 27, 29]\n"
          ]
        }
      ]
    },
    {
      "cell_type": "code",
      "metadata": {
        "colab": {
          "base_uri": "https://localhost:8080/"
        },
        "id": "kRrtzEsNpNFY",
        "outputId": "a05edfb2-18ea-4ec9-9410-32db0a0a0c36"
      },
      "source": [
        "list_bilangan_com = [x for x in range(0, 31)]\n",
        "print(list_bilangan_com)"
      ],
      "execution_count": 4,
      "outputs": [
        {
          "output_type": "stream",
          "name": "stdout",
          "text": [
            "[0, 1, 2, 3, 4, 5, 6, 7, 8, 9, 10, 11, 12, 13, 14, 15, 16, 17, 18, 19, 20, 21, 22, 23, 24, 25, 26, 27, 28, 29, 30]\n"
          ]
        }
      ]
    },
    {
      "cell_type": "code",
      "metadata": {
        "colab": {
          "base_uri": "https://localhost:8080/"
        },
        "id": "AcyxnQXnpbGC",
        "outputId": "5d1b01f3-bbc9-450a-f8ae-83330d165546"
      },
      "source": [
        "list_genap_com = [x for x in range(0, 31) if x%2 == 0]\n",
        "print(list_genap_com)"
      ],
      "execution_count": 5,
      "outputs": [
        {
          "output_type": "stream",
          "name": "stdout",
          "text": [
            "[0, 2, 4, 6, 8, 10, 12, 14, 16, 18, 20, 22, 24, 26, 28, 30]\n"
          ]
        }
      ]
    },
    {
      "cell_type": "code",
      "metadata": {
        "colab": {
          "base_uri": "https://localhost:8080/"
        },
        "id": "kyJpwFiApjAZ",
        "outputId": "4166fda7-fcda-417f-bca4-238dd09cd9b4"
      },
      "source": [
        "list_kuadGenap_com = [x**2 for x in range(0, 31) if x%2 == 0]\n",
        "print(list_kuadGenap_com)"
      ],
      "execution_count": 6,
      "outputs": [
        {
          "output_type": "stream",
          "name": "stdout",
          "text": [
            "[0, 4, 16, 36, 64, 100, 144, 196, 256, 324, 400, 484, 576, 676, 784, 900]\n"
          ]
        }
      ]
    },
    {
      "cell_type": "code",
      "metadata": {
        "colab": {
          "base_uri": "https://localhost:8080/"
        },
        "id": "0ZA3LjDIpzSi",
        "outputId": "de463596-5e73-4756-bc80-a2bccce2b88d"
      },
      "source": [
        "#if-elif-else di list comprehension\n",
        "num_classes = ['even' if num%2 == 0 else 'kelipatan tiga' if num%3 == 0 else 'odd' for num in range(30)]\n",
        "print(num_classes)"
      ],
      "execution_count": 7,
      "outputs": [
        {
          "output_type": "stream",
          "name": "stdout",
          "text": [
            "['even', 'odd', 'even', 'kelipatan tiga', 'even', 'odd', 'even', 'odd', 'even', 'kelipatan tiga', 'even', 'odd', 'even', 'odd', 'even', 'kelipatan tiga', 'even', 'odd', 'even', 'odd', 'even', 'kelipatan tiga', 'even', 'odd', 'even', 'odd', 'even', 'kelipatan tiga', 'even', 'odd']\n"
          ]
        }
      ]
    },
    {
      "cell_type": "code",
      "metadata": {
        "colab": {
          "base_uri": "https://localhost:8080/"
        },
        "id": "XDY8h187rLoj",
        "outputId": "39b264fa-801e-4d4c-be9d-c5622fda0841"
      },
      "source": [
        "def kaliTiga(x):\n",
        "  return x*3\n",
        "  \n",
        "listKaliTiga = [kaliTiga(i) for i in range(11)]\n",
        "print(listKaliTiga)"
      ],
      "execution_count": 8,
      "outputs": [
        {
          "output_type": "stream",
          "name": "stdout",
          "text": [
            "[0, 3, 6, 9, 12, 15, 18, 21, 24, 27, 30]\n"
          ]
        }
      ]
    },
    {
      "cell_type": "code",
      "metadata": {
        "id": "43EEs2lLr0lC"
      },
      "source": [
        "#Class tanpa constructor\n",
        "class rumusMatematika():\n",
        "  \n",
        "  #Function di dalam class --> Method\n",
        "  def luasLingkaran(self, r):\n",
        "    return 3.14 * r**2\n",
        "\n",
        "  def luasPersegi(self, s):\n",
        "    return s*s\n",
        "\n",
        "  def luasJajarGenjang(self, a, t):\n",
        "    return a * t\n",
        "\n",
        "  def luasSegitiga(self, a, t):\n",
        "    return (1/2) * a * t\n",
        "\n",
        "  def luasPersegiPanjang(self, p, l):\n",
        "    return p * l"
      ],
      "execution_count": 9,
      "outputs": []
    },
    {
      "cell_type": "code",
      "metadata": {
        "id": "4o3_bUI-uLlw"
      },
      "source": [
        "matematika = rumusMatematika()"
      ],
      "execution_count": 10,
      "outputs": []
    },
    {
      "cell_type": "code",
      "metadata": {
        "colab": {
          "base_uri": "https://localhost:8080/"
        },
        "id": "IXE9ep4tuOy7",
        "outputId": "fe7c64f5-ad12-42d7-dd6d-606230c0c478"
      },
      "source": [
        "matematika.luasPersegi(4)"
      ],
      "execution_count": 11,
      "outputs": [
        {
          "output_type": "execute_result",
          "data": {
            "text/plain": [
              "16"
            ]
          },
          "metadata": {},
          "execution_count": 11
        }
      ]
    },
    {
      "cell_type": "code",
      "metadata": {
        "colab": {
          "base_uri": "https://localhost:8080/"
        },
        "id": "oqN6gQr3uXTn",
        "outputId": "3ec5e57e-3be4-4ed8-9763-f21385c51b73"
      },
      "source": [
        "matematika.luasPersegiPanjang(5, 7)"
      ],
      "execution_count": 12,
      "outputs": [
        {
          "output_type": "execute_result",
          "data": {
            "text/plain": [
              "35"
            ]
          },
          "metadata": {},
          "execution_count": 12
        }
      ]
    },
    {
      "cell_type": "code",
      "metadata": {
        "id": "mEs33yfiub9J"
      },
      "source": [
        "#Class dengan constructor\n",
        "class rumusMatematika_construct():\n",
        "\n",
        "  #Constructor\n",
        "  def __init__(self, s, a, t, r, p, l):\n",
        "    #Attribute\n",
        "    self.s = s\n",
        "    self.a = a\n",
        "    self.t = t\n",
        "    self.r = r\n",
        "    self.p = p\n",
        "    self.l = l\n",
        "\n",
        "  #Function di dalam class --> Method\n",
        "  def luasLingkaran(self):\n",
        "    return 3.14 * self.r**2\n",
        "\n",
        "  def luasPersegi(self):\n",
        "    return self.s*self.s\n",
        "\n",
        "  def luasJajarGenjang(self):\n",
        "    return self.a * self.t\n",
        "\n",
        "  def luasSegitiga(self):\n",
        "    return (1/2) * self.a * self.t\n",
        "\n",
        "  def luasPersegiPanjang(self):\n",
        "    return self.p * self.l"
      ],
      "execution_count": 13,
      "outputs": []
    },
    {
      "cell_type": "code",
      "metadata": {
        "id": "sBtEDTHmu-bs"
      },
      "source": [
        "matematikaCons = rumusMatematika_construct(4, 5, 6, 9, 7, 2)"
      ],
      "execution_count": 14,
      "outputs": []
    },
    {
      "cell_type": "code",
      "metadata": {
        "colab": {
          "base_uri": "https://localhost:8080/"
        },
        "id": "Xzyin3QuvaVy",
        "outputId": "dcf0edbb-a62c-406f-e125-84f3c57adb03"
      },
      "source": [
        "matematikaCons.luasPersegi()"
      ],
      "execution_count": 15,
      "outputs": [
        {
          "output_type": "execute_result",
          "data": {
            "text/plain": [
              "16"
            ]
          },
          "metadata": {},
          "execution_count": 15
        }
      ]
    },
    {
      "cell_type": "code",
      "metadata": {
        "colab": {
          "base_uri": "https://localhost:8080/"
        },
        "id": "cT7KTkbWvdyx",
        "outputId": "308b3b93-fc31-4437-d977-b7449c0c168b"
      },
      "source": [
        "matematikaCons.luasSegitiga()"
      ],
      "execution_count": 16,
      "outputs": [
        {
          "output_type": "execute_result",
          "data": {
            "text/plain": [
              "15.0"
            ]
          },
          "metadata": {},
          "execution_count": 16
        }
      ]
    }
  ]
}