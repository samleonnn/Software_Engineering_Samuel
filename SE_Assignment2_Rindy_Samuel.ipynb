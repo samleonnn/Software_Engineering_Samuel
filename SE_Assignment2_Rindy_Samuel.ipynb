{
  "nbformat": 4,
  "nbformat_minor": 0,
  "metadata": {
    "colab": {
      "name": "SE_Assignment2_Rindy-Samuel.ipynb",
      "provenance": [],
      "include_colab_link": true
    },
    "kernelspec": {
      "name": "python3",
      "display_name": "Python 3"
    },
    "language_info": {
      "name": "python"
    }
  },
  "cells": [
    {
      "cell_type": "markdown",
      "metadata": {
        "id": "view-in-github",
        "colab_type": "text"
      },
      "source": [
        "<a href=\"https://colab.research.google.com/github/samleonnn/Software_Engineering_Samuel/blob/main/SE_Assignment2_Rindy_Samuel.ipynb\" target=\"_parent\"><img src=\"https://colab.research.google.com/assets/colab-badge.svg\" alt=\"Open In Colab\"/></a>"
      ]
    },
    {
      "cell_type": "markdown",
      "metadata": {
        "id": "0mvO9z6MAYWA"
      },
      "source": [
        "# **Software Engineering Assignment 2 - IT-3**\n",
        "## **Rindy Oktavia (001201900008)**\n",
        "## **Samuel (001201900005)**"
      ]
    },
    {
      "cell_type": "code",
      "metadata": {
        "colab": {
          "base_uri": "https://localhost:8080/"
        },
        "id": "7YUh7GT46DZJ",
        "outputId": "d91ca813-66d2-4ec2-97c3-b608b4f24a42"
      },
      "source": [
        "elements = int(input(\"How many elements do you want? \"))\n",
        "\n",
        "collection = []\n",
        "for i in range(elements):\n",
        "  val = int(input(\"Input value: \"))\n",
        "  collection.append(val)"
      ],
      "execution_count": 1,
      "outputs": [
        {
          "name": "stdout",
          "output_type": "stream",
          "text": [
            "How many elements do you want? 18\n",
            "Input value: 52\n",
            "Input value: 59\n",
            "Input value: 56\n",
            "Input value: 78\n",
            "Input value: 23\n",
            "Input value: 52\n",
            "Input value: 46\n",
            "Input value: 14\n",
            "Input value: 58\n",
            "Input value: 36\n",
            "Input value: 12\n",
            "Input value: 35\n",
            "Input value: 25\n",
            "Input value: 50\n",
            "Input value: 51\n",
            "Input value: 25\n",
            "Input value: 35\n",
            "Input value: 59\n"
          ]
        }
      ]
    },
    {
      "cell_type": "code",
      "metadata": {
        "colab": {
          "base_uri": "https://localhost:8080/"
        },
        "id": "e-lCaqQL5fDk",
        "outputId": "4190a86d-5f8e-41c4-b766-7085fc71f871"
      },
      "source": [
        "collection.sort()\n",
        "maxValue = collection[-1]\n",
        "\n",
        "for j in collection:\n",
        "  if j < maxValue:\n",
        "    secondMax = j\n",
        "\n",
        "print(\"Second highest value is\", secondMax)"
      ],
      "execution_count": 2,
      "outputs": [
        {
          "output_type": "stream",
          "name": "stdout",
          "text": [
            "Second highest value is 59\n"
          ]
        }
      ]
    }
  ]
}