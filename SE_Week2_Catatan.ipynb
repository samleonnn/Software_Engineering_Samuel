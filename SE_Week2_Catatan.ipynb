{
  "nbformat": 4,
  "nbformat_minor": 0,
  "metadata": {
    "colab": {
      "name": "SE-Week2-Catatan.ipynb",
      "provenance": [],
      "authorship_tag": "ABX9TyPT3c8M8FOMilEgbz99Ltuu",
      "include_colab_link": true
    },
    "kernelspec": {
      "name": "python3",
      "display_name": "Python 3"
    },
    "language_info": {
      "name": "python"
    }
  },
  "cells": [
    {
      "cell_type": "markdown",
      "metadata": {
        "id": "view-in-github",
        "colab_type": "text"
      },
      "source": [
        "<a href=\"https://colab.research.google.com/github/samleonnn/Software_Engineering_Samuel/blob/main/SE_Week2_Catatan.ipynb\" target=\"_parent\"><img src=\"https://colab.research.google.com/assets/colab-badge.svg\" alt=\"Open In Colab\"/></a>"
      ]
    },
    {
      "cell_type": "code",
      "metadata": {
        "id": "BwzAhQx7bKah"
      },
      "source": [
        "#Contoh Variabel\n",
        "\n",
        "a = 10  #Integer\n",
        "b = 3.14 #Float\n",
        "\n",
        "#String\n",
        "c = 'L'\n",
        "d = \"Leon\"\n",
        "e = \"Anak Ayam petok\"\n",
        "\n",
        "#Boolean\n",
        "f = True\n",
        "g = False\n",
        "\n",
        "h = []  #List\n",
        "i = [1, 2, 3] #List\n",
        "\n",
        "j = {}  #Dictionary\n",
        "k = ()  #Tuple"
      ],
      "execution_count": 1,
      "outputs": []
    },
    {
      "cell_type": "code",
      "metadata": {
        "colab": {
          "base_uri": "https://localhost:8080/"
        },
        "id": "q5DTR-uOd6oO",
        "outputId": "d75b81a6-f4e8-4418-c9ad-6c25e5ba8d45"
      },
      "source": [
        "#Print\n",
        "print(e)"
      ],
      "execution_count": 2,
      "outputs": [
        {
          "output_type": "stream",
          "name": "stdout",
          "text": [
            "Anak Ayam petok\n"
          ]
        }
      ]
    },
    {
      "cell_type": "code",
      "metadata": {
        "colab": {
          "base_uri": "https://localhost:8080/"
        },
        "id": "BTorBlR7efRN",
        "outputId": "4efc3123-cf47-4ac8-c050-3f91cd3ebcd9"
      },
      "source": [
        "print(2 + 4 * 2)"
      ],
      "execution_count": 3,
      "outputs": [
        {
          "output_type": "stream",
          "name": "stdout",
          "text": [
            "10\n"
          ]
        }
      ]
    },
    {
      "cell_type": "code",
      "metadata": {
        "colab": {
          "base_uri": "https://localhost:8080/"
        },
        "id": "gXDZyIhUe4zb",
        "outputId": "dd5dae89-8fec-4942-f6e9-665234db2b36"
      },
      "source": [
        "print(\"Hai namaku \" + d)  #Concatination\n",
        "print(\"Hai nama saya\", d)"
      ],
      "execution_count": 8,
      "outputs": [
        {
          "output_type": "stream",
          "name": "stdout",
          "text": [
            "Hai namaku Leon\n",
            "Hai nama saya Leon\n"
          ]
        }
      ]
    },
    {
      "cell_type": "code",
      "metadata": {
        "colab": {
          "base_uri": "https://localhost:8080/"
        },
        "id": "ktc5Go4mfPWV",
        "outputId": "b17ddab1-0b77-40dd-dbca-758f4bd118bb"
      },
      "source": [
        "print(\"Hai nama aku {}\".format(d))"
      ],
      "execution_count": 9,
      "outputs": [
        {
          "output_type": "stream",
          "name": "stdout",
          "text": [
            "Hai nama aku Leon\n"
          ]
        }
      ]
    },
    {
      "cell_type": "code",
      "metadata": {
        "colab": {
          "base_uri": "https://localhost:8080/"
        },
        "id": "E2R3XHQxf0z3",
        "outputId": "2848816b-2291-4810-fa88-fad9359daf39"
      },
      "source": [
        "nama = input()\n",
        "print(\"Halo\", nama)"
      ],
      "execution_count": 10,
      "outputs": [
        {
          "output_type": "stream",
          "name": "stdout",
          "text": [
            "Samuel\n",
            "Halo Samuel\n"
          ]
        }
      ]
    },
    {
      "cell_type": "code",
      "metadata": {
        "colab": {
          "base_uri": "https://localhost:8080/"
        },
        "id": "wYkOcEwyf753",
        "outputId": "030c2db1-16be-43d5-b10e-b8947f49ac39"
      },
      "source": [
        "name = \"Samuel\"\n",
        "age = 19\n",
        "print(\"Kamu {} yang berumur {}\".format(name, age))"
      ],
      "execution_count": 12,
      "outputs": [
        {
          "output_type": "stream",
          "name": "stdout",
          "text": [
            "Kamu Samuel yang berumur 19\n"
          ]
        }
      ]
    },
    {
      "cell_type": "code",
      "metadata": {
        "colab": {
          "base_uri": "https://localhost:8080/"
        },
        "id": "ctt4lsP6gRub",
        "outputId": "8a01636d-74a2-4597-d0b2-a3d0a6b8a8ff"
      },
      "source": [
        "aa = 10\n",
        "bb = 10\n",
        "\n",
        "#Conditional Statement\n",
        "aa == bb #Nilai a sama dengan b\n",
        "aa != bb  #Nilai a tidak sama dengan b\n",
        "aa < bb\n",
        "aa <= bb\n",
        "aa > bb\n",
        "aa >= bb\n",
        "True and True\n",
        "False or True\n",
        "\n",
        "#Operator\n",
        "aa + bb\n",
        "aa - bb\n",
        "aa * bb\n",
        "aa / bb #Pembagian, hasilnya bisa float -> Float Division\n",
        "aa //bb #Pembagian, hasilnya diibulatkan jadi integer -> Integer Division\n",
        "aa ** bb  #Pangkat\n",
        "aa % bb #Modulo, sisa pembagian\n",
        "\n",
        "#Akar variabel aa\n",
        "aa ** (1/2)\n",
        "import math\n",
        "math.sqrt(aa)"
      ],
      "execution_count": 13,
      "outputs": [
        {
          "output_type": "execute_result",
          "data": {
            "text/plain": [
              "3.1622776601683795"
            ]
          },
          "metadata": {},
          "execution_count": 13
        }
      ]
    },
    {
      "cell_type": "code",
      "metadata": {
        "colab": {
          "base_uri": "https://localhost:8080/"
        },
        "id": "q0Vpy8Zcknkr",
        "outputId": "0d115074-62bf-44fa-d410-f6ea509fd304"
      },
      "source": [
        "if aa == 10:\n",
        "  print(\"Nilai aa sama dengan 10\")\n",
        "elif aa > 10:\n",
        "  print(\"Nilai aa lebih besar dari 10\")\n",
        "else:\n",
        "  print(\"Nilai aa lebih kecil dari 10\")\n",
        "print(\"Ini diluar if\")"
      ],
      "execution_count": 14,
      "outputs": [
        {
          "output_type": "stream",
          "name": "stdout",
          "text": [
            "Nilai aa sama dengan 10\n",
            "Ini diluar if\n"
          ]
        }
      ]
    }
  ]
}