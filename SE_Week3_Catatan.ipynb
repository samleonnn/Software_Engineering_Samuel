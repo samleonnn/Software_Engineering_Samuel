{
  "nbformat": 4,
  "nbformat_minor": 0,
  "metadata": {
    "colab": {
      "name": "SE_Week3_Catatan.ipynb",
      "provenance": [],
      "authorship_tag": "ABX9TyOCttDkAGBYUWhMS7aquDES",
      "include_colab_link": true
    },
    "kernelspec": {
      "name": "python3",
      "display_name": "Python 3"
    },
    "language_info": {
      "name": "python"
    }
  },
  "cells": [
    {
      "cell_type": "markdown",
      "metadata": {
        "id": "view-in-github",
        "colab_type": "text"
      },
      "source": [
        "<a href=\"https://colab.research.google.com/github/samleonnn/Software_Engineering_Samuel/blob/main/SE_Week3_Catatan.ipynb\" target=\"_parent\"><img src=\"https://colab.research.google.com/assets/colab-badge.svg\" alt=\"Open In Colab\"/></a>"
      ]
    },
    {
      "cell_type": "code",
      "metadata": {
        "id": "5CaAqB3tcFs2"
      },
      "source": [
        "#Wednesday, September 29th, 2021\n",
        "#List []\n",
        "#Dictionary {}\n",
        "#Tuple ()\n",
        "#Set {}\n",
        "#Looping\n",
        "#Function"
      ],
      "execution_count": 1,
      "outputs": []
    },
    {
      "cell_type": "code",
      "metadata": {
        "colab": {
          "base_uri": "https://localhost:8080/"
        },
        "id": "4sd6uFtGdfqJ",
        "outputId": "310d9973-d74e-413a-e270-183ec5ee6cf5"
      },
      "source": [
        "#List --> Bisa berbagai macam data type dalam satu list --> zero index base\n",
        "listExample = [\"Leon\", 29, 29.0, [\"samuel\", \"Leon\"], {}, (), True]\n",
        "print(listExample[0]) #Leon\n",
        "print(listExample[1]) #29\n",
        "print(listExample[-1])  #Paling akhir, True"
      ],
      "execution_count": 2,
      "outputs": [
        {
          "output_type": "stream",
          "name": "stdout",
          "text": [
            "Leon\n",
            "29\n",
            "True\n"
          ]
        }
      ]
    },
    {
      "cell_type": "code",
      "metadata": {
        "colab": {
          "base_uri": "https://localhost:8080/"
        },
        "id": "hqya5HDZeHwL",
        "outputId": "48958497-c765-4e7f-f964-ba0b13c7b878"
      },
      "source": [
        "#Dictionary --> Ada value dan ada key, key:value, yang dipanggil key\n",
        "dictExample = {2:\"Leon\", \"dua belas\":29, False:29.0, 2.1:[\"samuel\", \"Leon\"], \"Dict\":{}, 123:(), \"Boolean\":True}\n",
        "print(dictExample[2]) #Leon\n",
        "print(dictExample[\"dua belas\"]) #29\n",
        "print(dictExample[False]) #29.0"
      ],
      "execution_count": 3,
      "outputs": [
        {
          "output_type": "stream",
          "name": "stdout",
          "text": [
            "Leon\n",
            "29\n",
            "29.0\n"
          ]
        }
      ]
    },
    {
      "cell_type": "code",
      "metadata": {
        "colab": {
          "base_uri": "https://localhost:8080/"
        },
        "id": "OR5fLkI8fNZv",
        "outputId": "8566831c-de37-4eae-8a35-0fc18fb5853b"
      },
      "source": [
        "#Cara mengetahui key dari value dictionary, method: .keys()\n",
        "dictExample.keys()"
      ],
      "execution_count": 4,
      "outputs": [
        {
          "output_type": "execute_result",
          "data": {
            "text/plain": [
              "dict_keys([2, 'dua belas', False, 2.1, 'Dict', 123, 'Boolean'])"
            ]
          },
          "metadata": {},
          "execution_count": 4
        }
      ]
    },
    {
      "cell_type": "code",
      "metadata": {
        "colab": {
          "base_uri": "https://localhost:8080/"
        },
        "id": "jewSUKRwix46",
        "outputId": "048084f9-1fc6-4fa7-d62f-cf47ba730f31"
      },
      "source": [
        "#Cara menambah value di dictionary, method: dictName[key] = value\n",
        "dictExample[\"halohalo\"] = 100\n",
        "print(dictExample)"
      ],
      "execution_count": 5,
      "outputs": [
        {
          "output_type": "stream",
          "name": "stdout",
          "text": [
            "{2: 'Leon', 'dua belas': 29, False: 29.0, 2.1: ['samuel', 'Leon'], 'Dict': {}, 123: (), 'Boolean': True, 'halohalo': 100}\n"
          ]
        }
      ]
    },
    {
      "cell_type": "code",
      "metadata": {
        "colab": {
          "base_uri": "https://localhost:8080/"
        },
        "id": "aCQzWzp_j7MD",
        "outputId": "1afa0c9b-f0e6-49b1-99ea-9d9b99b80b01"
      },
      "source": [
        "#Cara menghapus value di dictionary berdasarkan key, method: .pop(key)\n",
        "dictExample.pop(False)\n",
        "print(dictExample)"
      ],
      "execution_count": 6,
      "outputs": [
        {
          "output_type": "stream",
          "name": "stdout",
          "text": [
            "{2: 'Leon', 'dua belas': 29, 2.1: ['samuel', 'Leon'], 'Dict': {}, 123: (), 'Boolean': True, 'halohalo': 100}\n"
          ]
        }
      ]
    },
    {
      "cell_type": "code",
      "metadata": {
        "colab": {
          "base_uri": "https://localhost:8080/"
        },
        "id": "ro0As8YrkfJa",
        "outputId": "2f06bdf9-0c93-41b3-9bb9-174666f513d4"
      },
      "source": [
        "#Cara lain menghapus value di dictionary berdasarkan key, method: del dictName[key]\n",
        "del dictExample[2]\n",
        "print(dictExample)\n",
        "\n",
        "#Kurang bisa menghapus value langsung, yang paling mungkin me-replace value dengan None"
      ],
      "execution_count": 7,
      "outputs": [
        {
          "output_type": "stream",
          "name": "stdout",
          "text": [
            "{'dua belas': 29, 2.1: ['samuel', 'Leon'], 'Dict': {}, 123: (), 'Boolean': True, 'halohalo': 100}\n"
          ]
        }
      ]
    },
    {
      "cell_type": "code",
      "metadata": {
        "id": "Glm2T9UcfZT0"
      },
      "source": [
        "list1 = [3, 1, 2, 4, 5 ,6]"
      ],
      "execution_count": 8,
      "outputs": []
    },
    {
      "cell_type": "code",
      "metadata": {
        "colab": {
          "base_uri": "https://localhost:8080/"
        },
        "id": "dGo-iU_VfuOt",
        "outputId": "b00a968e-a3a5-46aa-9fdc-78afd78373d4"
      },
      "source": [
        "#Cara menambah value di paling belakang dalam list, method: .append(value)\n",
        "list1.append(\"Samuel\")\n",
        "list1"
      ],
      "execution_count": 9,
      "outputs": [
        {
          "output_type": "execute_result",
          "data": {
            "text/plain": [
              "[3, 1, 2, 4, 5, 6, 'Samuel']"
            ]
          },
          "metadata": {},
          "execution_count": 9
        }
      ]
    },
    {
      "cell_type": "code",
      "metadata": {
        "colab": {
          "base_uri": "https://localhost:8080/"
        },
        "id": "ZyN55Tm3f2SH",
        "outputId": "7f9e7c79-5c38-4d9e-d0fc-d1a54fafec84"
      },
      "source": [
        "#Cara menambah value di index tertentu dalam list, method: .insert(index, value)\n",
        "list1.insert(3, \"Leon\")\n",
        "list1"
      ],
      "execution_count": 10,
      "outputs": [
        {
          "output_type": "execute_result",
          "data": {
            "text/plain": [
              "[3, 1, 2, 'Leon', 4, 5, 6, 'Samuel']"
            ]
          },
          "metadata": {},
          "execution_count": 10
        }
      ]
    },
    {
      "cell_type": "code",
      "metadata": {
        "colab": {
          "base_uri": "https://localhost:8080/"
        },
        "id": "xXvIGhLPgA2o",
        "outputId": "6bffbe2a-9191-4eea-dbd2-b81a0c377870"
      },
      "source": [
        "listAngka = [1, 4, 7, 9 ,8]\n",
        "\n",
        "#Sorting di list dari kecil ke besar, method: .sort()\n",
        "listAngka.sort()\n",
        "listAngka"
      ],
      "execution_count": 11,
      "outputs": [
        {
          "output_type": "execute_result",
          "data": {
            "text/plain": [
              "[1, 4, 7, 8, 9]"
            ]
          },
          "metadata": {},
          "execution_count": 11
        }
      ]
    },
    {
      "cell_type": "code",
      "metadata": {
        "colab": {
          "base_uri": "https://localhost:8080/"
        },
        "id": "WUZFQGuAgPIQ",
        "outputId": "c7c7287e-e6f2-4870-fa99-03ff0c71a41e"
      },
      "source": [
        "#Sorting di list dari besar ke kecil, method: .sort(reverse = True)\n",
        "listAngka.sort(reverse = True)\n",
        "listAngka"
      ],
      "execution_count": 12,
      "outputs": [
        {
          "output_type": "execute_result",
          "data": {
            "text/plain": [
              "[9, 8, 7, 4, 1]"
            ]
          },
          "metadata": {},
          "execution_count": 12
        }
      ]
    },
    {
      "cell_type": "code",
      "metadata": {
        "colab": {
          "base_uri": "https://localhost:8080/"
        },
        "id": "NZXnu6gUgUwk",
        "outputId": "4348d06e-6570-4268-c6f2-516f75a8f167"
      },
      "source": [
        "#Menghapus value paling akhir di list, method: .pop()\n",
        "listAngka.pop()\n",
        "listAngka"
      ],
      "execution_count": 13,
      "outputs": [
        {
          "output_type": "execute_result",
          "data": {
            "text/plain": [
              "[9, 8, 7, 4]"
            ]
          },
          "metadata": {},
          "execution_count": 13
        }
      ]
    },
    {
      "cell_type": "code",
      "metadata": {
        "colab": {
          "base_uri": "https://localhost:8080/"
        },
        "id": "5lmFDYiNgddl",
        "outputId": "4c4ea67f-474a-459f-ff50-c80328c424ff"
      },
      "source": [
        "#Menghapus value yang kita mau, method: .remove(value)\n",
        "listAngka.remove(8)\n",
        "listAngka"
      ],
      "execution_count": 14,
      "outputs": [
        {
          "output_type": "execute_result",
          "data": {
            "text/plain": [
              "[9, 7, 4]"
            ]
          },
          "metadata": {},
          "execution_count": 14
        }
      ]
    },
    {
      "cell_type": "code",
      "metadata": {
        "colab": {
          "base_uri": "https://localhost:8080/"
        },
        "id": "-Q8s1UffglTL",
        "outputId": "130c1f51-efd2-43cb-907d-b831c4fd8b5a"
      },
      "source": [
        "#Menghapus value yang kita mau dari index, method: .remove(array[index])\n",
        "listAngka.remove(listAngka[1])\n",
        "listAngka"
      ],
      "execution_count": 15,
      "outputs": [
        {
          "output_type": "execute_result",
          "data": {
            "text/plain": [
              "[9, 4]"
            ]
          },
          "metadata": {},
          "execution_count": 15
        }
      ]
    },
    {
      "cell_type": "code",
      "metadata": {
        "colab": {
          "base_uri": "https://localhost:8080/"
        },
        "id": "dveONFHVhULp",
        "outputId": "7106d8cf-11e6-4cbe-a272-c708bac3936e"
      },
      "source": [
        "#Set --> Tidak ada double value di set, set tidak bisa dipanggil\n",
        "numList = [9, 7, 4, 1, 7]\n",
        "numSet = set(numList) #Convert list to set\n",
        "numSet"
      ],
      "execution_count": 16,
      "outputs": [
        {
          "output_type": "execute_result",
          "data": {
            "text/plain": [
              "{1, 4, 7, 9}"
            ]
          },
          "metadata": {},
          "execution_count": 16
        }
      ]
    },
    {
      "cell_type": "code",
      "metadata": {
        "colab": {
          "base_uri": "https://localhost:8080/"
        },
        "id": "XbiT-MSriEfe",
        "outputId": "4e501303-d75d-49b7-c9cb-e2b25d6e802f"
      },
      "source": [
        "#Tuple --> Value tidak bisa diubah kecuali saat deklarasi\n",
        "numTuple = (1, 3, 5, 7, 9, 7)\n",
        "numTuple[3]"
      ],
      "execution_count": 17,
      "outputs": [
        {
          "output_type": "execute_result",
          "data": {
            "text/plain": [
              "7"
            ]
          },
          "metadata": {},
          "execution_count": 17
        }
      ]
    },
    {
      "cell_type": "code",
      "metadata": {
        "colab": {
          "base_uri": "https://localhost:8080/"
        },
        "id": "efUw5Sc8itx7",
        "outputId": "7d720957-f900-40b9-ad46-68b9082f6a1c"
      },
      "source": [
        "#Looping\n",
        "for i in range(10):\n",
        "  print(i)"
      ],
      "execution_count": 18,
      "outputs": [
        {
          "output_type": "stream",
          "name": "stdout",
          "text": [
            "0\n",
            "1\n",
            "2\n",
            "3\n",
            "4\n",
            "5\n",
            "6\n",
            "7\n",
            "8\n",
            "9\n"
          ]
        }
      ]
    },
    {
      "cell_type": "code",
      "metadata": {
        "colab": {
          "base_uri": "https://localhost:8080/"
        },
        "id": "EKvj1EkblAjP",
        "outputId": "15b4536c-4e9e-4546-e72d-e6f6b7df02ea"
      },
      "source": [
        "#Looping for menggunakan range, range(init, end before, step)\n",
        "for j in range(0, 22, 3):\n",
        "  print(j)"
      ],
      "execution_count": 19,
      "outputs": [
        {
          "output_type": "stream",
          "name": "stdout",
          "text": [
            "0\n",
            "3\n",
            "6\n",
            "9\n",
            "12\n",
            "15\n",
            "18\n",
            "21\n"
          ]
        }
      ]
    },
    {
      "cell_type": "code",
      "metadata": {
        "colab": {
          "base_uri": "https://localhost:8080/"
        },
        "id": "l9mAml7mlaOs",
        "outputId": "6947c5c2-6c0d-4d59-f0fd-4336b0626f04"
      },
      "source": [
        "#Decrement di looping for\n",
        "for k in range(25, 0, -1):\n",
        "  print(k)"
      ],
      "execution_count": 20,
      "outputs": [
        {
          "output_type": "stream",
          "name": "stdout",
          "text": [
            "25\n",
            "24\n",
            "23\n",
            "22\n",
            "21\n",
            "20\n",
            "19\n",
            "18\n",
            "17\n",
            "16\n",
            "15\n",
            "14\n",
            "13\n",
            "12\n",
            "11\n",
            "10\n",
            "9\n",
            "8\n",
            "7\n",
            "6\n",
            "5\n",
            "4\n",
            "3\n",
            "2\n",
            "1\n"
          ]
        }
      ]
    },
    {
      "cell_type": "code",
      "metadata": {
        "colab": {
          "base_uri": "https://localhost:8080/"
        },
        "id": "pyURLTArlnAy",
        "outputId": "fc874a1a-bd54-4689-b75b-340c6d48dab4"
      },
      "source": [
        "#While loop\n",
        "a = 5\n",
        "while a < 20:\n",
        "  print(a, \"lebih kecil dari 20\")\n",
        "  a += 1"
      ],
      "execution_count": 21,
      "outputs": [
        {
          "output_type": "stream",
          "name": "stdout",
          "text": [
            "5 lebih kecil dari 20\n",
            "6 lebih kecil dari 20\n",
            "7 lebih kecil dari 20\n",
            "8 lebih kecil dari 20\n",
            "9 lebih kecil dari 20\n",
            "10 lebih kecil dari 20\n",
            "11 lebih kecil dari 20\n",
            "12 lebih kecil dari 20\n",
            "13 lebih kecil dari 20\n",
            "14 lebih kecil dari 20\n",
            "15 lebih kecil dari 20\n",
            "16 lebih kecil dari 20\n",
            "17 lebih kecil dari 20\n",
            "18 lebih kecil dari 20\n",
            "19 lebih kecil dari 20\n"
          ]
        }
      ]
    },
    {
      "cell_type": "code",
      "metadata": {
        "colab": {
          "base_uri": "https://localhost:8080/"
        },
        "id": "F968BvOll8xm",
        "outputId": "e8cbd1a4-0556-4edd-faa2-324ef2697640"
      },
      "source": [
        "#Program umur user yang diinput tidak boleh dibawah 17, kalo dibawah bakal diminta input ulang --> Break\n",
        "while True:\n",
        "  umur = int(input(\"Masukkan umur: \"))\n",
        "  if umur >= 17:\n",
        "    break"
      ],
      "execution_count": 22,
      "outputs": [
        {
          "name": "stdout",
          "output_type": "stream",
          "text": [
            "Masukkan umur: 14\n",
            "Masukkan umur: 16\n",
            "Masukkan umur: 18\n"
          ]
        }
      ]
    },
    {
      "cell_type": "code",
      "metadata": {
        "colab": {
          "base_uri": "https://localhost:8080/"
        },
        "id": "5a5XisYpmfXD",
        "outputId": "bdf7e7b6-4557-4d2a-cb4b-badc0d9b5c9a"
      },
      "source": [
        "#Program umur user yang diinput tidak boleh dibawah 17, kalo dibawah bakal diminta input ulang --> Continue\n",
        "while True:\n",
        "  umurSaya = int(input(\"Masukkan umur: \"))\n",
        "  if umurSaya == 17:\n",
        "    continue\n",
        "  elif umurSaya > 17:\n",
        "    break\n",
        "  print(\"Kamu berumur dibawah 17\")"
      ],
      "execution_count": 23,
      "outputs": [
        {
          "name": "stdout",
          "output_type": "stream",
          "text": [
            "Masukkan umur: 14\n",
            "Kamu berumur dibawah 17\n",
            "Masukkan umur: 15\n",
            "Kamu berumur dibawah 17\n",
            "Masukkan umur: 17\n",
            "Masukkan umur: 21\n"
          ]
        }
      ]
    },
    {
      "cell_type": "code",
      "metadata": {
        "colab": {
          "base_uri": "https://localhost:8080/"
        },
        "id": "9PqeYoEbnC8B",
        "outputId": "cf8f47c4-66af-4370-ca91-32ea910c0045"
      },
      "source": [
        "#For-else\n",
        "for i in range(0, 20, 1):\n",
        "  print(i)\n",
        "  if i == 2:\n",
        "    break\n",
        "else:\n",
        "  print(\"Breaknya ga jalan nih\")"
      ],
      "execution_count": 24,
      "outputs": [
        {
          "output_type": "stream",
          "name": "stdout",
          "text": [
            "0\n",
            "1\n",
            "2\n"
          ]
        }
      ]
    },
    {
      "cell_type": "code",
      "metadata": {
        "colab": {
          "base_uri": "https://localhost:8080/"
        },
        "id": "KdVm77sZppUx",
        "outputId": "e5b6d6e3-48ac-4d12-9b43-78060ef1b771"
      },
      "source": [
        "#Print value di dalam list\n",
        "for i in listExample:\n",
        "  print(i)"
      ],
      "execution_count": 25,
      "outputs": [
        {
          "output_type": "stream",
          "name": "stdout",
          "text": [
            "Leon\n",
            "29\n",
            "29.0\n",
            "['samuel', 'Leon']\n",
            "{}\n",
            "()\n",
            "True\n"
          ]
        }
      ]
    },
    {
      "cell_type": "code",
      "metadata": {
        "colab": {
          "base_uri": "https://localhost:8080/"
        },
        "id": "dX2wWbcOpwua",
        "outputId": "7feca925-2efb-4c76-b996-cae1a18dc648"
      },
      "source": [
        "#Print key di dalam dictionary\n",
        "for i in dictExample:\n",
        "  print(i)"
      ],
      "execution_count": 26,
      "outputs": [
        {
          "output_type": "stream",
          "name": "stdout",
          "text": [
            "dua belas\n",
            "2.1\n",
            "Dict\n",
            "123\n",
            "Boolean\n",
            "halohalo\n"
          ]
        }
      ]
    },
    {
      "cell_type": "code",
      "metadata": {
        "colab": {
          "base_uri": "https://localhost:8080/"
        },
        "id": "m4500UBlp6pG",
        "outputId": "602643c0-c27b-496d-b653-3830296e41e2"
      },
      "source": [
        "#Print setiap character dari string\n",
        "for char in \"Leon\":\n",
        "  print(char)"
      ],
      "execution_count": 27,
      "outputs": [
        {
          "output_type": "stream",
          "name": "stdout",
          "text": [
            "L\n",
            "e\n",
            "o\n",
            "n\n"
          ]
        }
      ]
    },
    {
      "cell_type": "code",
      "metadata": {
        "colab": {
          "base_uri": "https://localhost:8080/"
        },
        "id": "EL-UMb1cqVzt",
        "outputId": "9e444e52-ca05-4938-f943-c549a2c28a5c"
      },
      "source": [
        "listSample = [9, 8, 7, 6, 5, 4, 3, 2, 1, 0]\n",
        "\n",
        "for nilai in listSample:\n",
        "  if nilai == 0:\n",
        "    listSample.remove(nilai)\n",
        "listSample"
      ],
      "execution_count": 28,
      "outputs": [
        {
          "output_type": "execute_result",
          "data": {
            "text/plain": [
              "[9, 8, 7, 6, 5, 4, 3, 2, 1]"
            ]
          },
          "metadata": {},
          "execution_count": 28
        }
      ]
    },
    {
      "cell_type": "code",
      "metadata": {
        "colab": {
          "base_uri": "https://localhost:8080/"
        },
        "id": "XPxjiSlerKYL",
        "outputId": "9c3afbd1-73ba-4a7c-9e69-08915db461b3"
      },
      "source": [
        "for idx, nilai in enumerate(listSample):\n",
        "  print(\"Index: {}, Value: {}\".format(idx, nilai))"
      ],
      "execution_count": 29,
      "outputs": [
        {
          "output_type": "stream",
          "name": "stdout",
          "text": [
            "Index: 0, Value: 9\n",
            "Index: 1, Value: 8\n",
            "Index: 2, Value: 7\n",
            "Index: 3, Value: 6\n",
            "Index: 4, Value: 5\n",
            "Index: 5, Value: 4\n",
            "Index: 6, Value: 3\n",
            "Index: 7, Value: 2\n",
            "Index: 8, Value: 1\n"
          ]
        }
      ]
    },
    {
      "cell_type": "code",
      "metadata": {
        "colab": {
          "base_uri": "https://localhost:8080/"
        },
        "id": "5HBK2q0InpCf",
        "outputId": "4c49340b-b459-42bd-ef45-a3d3a11cd0d4"
      },
      "source": [
        "#Function\n",
        "def biggestValue(a, b):\n",
        "  if a > b:\n",
        "    return a\n",
        "  else:\n",
        "    return b\n",
        "\n",
        "print(\"Nilai terbesar\", biggestValue(3, 17))"
      ],
      "execution_count": 30,
      "outputs": [
        {
          "output_type": "stream",
          "name": "stdout",
          "text": [
            "Nilai terbesar 17\n"
          ]
        }
      ]
    }
  ]
}